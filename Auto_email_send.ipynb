{
  "nbformat": 4,
  "nbformat_minor": 0,
  "metadata": {
    "colab": {
      "name": "Auto email send",
      "provenance": [],
      "collapsed_sections": [],
      "include_colab_link": true
    },
    "kernelspec": {
      "name": "python3",
      "display_name": "Python 3"
    }
  },
  "cells": [
    {
      "cell_type": "markdown",
      "metadata": {
        "id": "view-in-github",
        "colab_type": "text"
      },
      "source": [
        "<a href=\"https://colab.research.google.com/github/vimox-shah/v7files/blob/master/Auto_email_send.ipynb\" target=\"_parent\"><img src=\"https://colab.research.google.com/assets/colab-badge.svg\" alt=\"Open In Colab\"/></a>"
      ]
    },
    {
      "cell_type": "code",
      "metadata": {
        "id": "vT54NfGLwPu8",
        "colab_type": "code",
        "colab": {
          "base_uri": "https://localhost:8080/",
          "height": 68
        },
        "outputId": "bcba78b9-6b87-4545-d87a-8cae1b4b690b"
      },
      "source": [
        "from google.colab import drive\n",
        "import os\n",
        "drive.mount('/gdrive/')\n",
        "%cd /gdrive\n",
        "%cd My Drive/Central America\n",
        "from pathlib import Path\n",
        "for pth in Path.cwd().iterdir():\n",
        "  if os.path.isdir(pth):\n",
        "    os.chdir(pth)\n",
        "    dir_path = os.getcwd()\n",
        "    for subdir, dirs, files in os.walk(dir_path):\n",
        "      # print(subdir, dirs, files)\n",
        "      files = list()\n",
        "      for filename in files:\n",
        "        filepath = subdir + os.sep + filename\n",
        "        files.append(filepath)"
      ],
      "execution_count": 23,
      "outputs": [
        {
          "output_type": "stream",
          "text": [
            "Drive already mounted at /gdrive/; to attempt to forcibly remount, call drive.mount(\"/gdrive/\", force_remount=True).\n",
            "/gdrive\n",
            "/gdrive/My Drive/Central America\n"
          ],
          "name": "stdout"
        }
      ]
    },
    {
      "cell_type": "code",
      "metadata": {
        "id": "FfZ1wQMZ8j27",
        "colab_type": "code",
        "colab": {}
      },
      "source": [
        "    import smtplib \n",
        "    from email.mime.multipart import MIMEMultipart \n",
        "    from email.mime.text import MIMEText \n",
        "    from email.mime.base import MIMEBase \n",
        "    from email import encoders \n",
        "    \n",
        "    msg = MIMEMultipart()\n",
        "    msg['To'] = \"maersk-walmart-china-central-america@shipmnts.pw\"\n",
        "    msg['From'] = \"shipmntsapi@gmail.com\"\n",
        "    msg['Subject'] = \"TEST BOT\"\n",
        "    password = \"Temp$1234\"\n",
        "\n",
        "    body = MIMEText('Test results attached.', 'html', 'utf-8')\n",
        "    msg.attach(body)  # add message body (text or html)\n",
        "\n",
        "    for f in files:  # add files to the message\n",
        "        attachment = MIMEApplication(open(f, \"rb\").read(), _subtype=\"txt\")\n",
        "        attachment.add_header('Content-Disposition','attachment', filename=f)\n",
        "        msg.attach(attachment)\n",
        "    s = smtplib.SMTP('smtp.gmail.com', 25)\n",
        "    # s.starttls()\n",
        "    s.connect(\"smtp.gmail.com\",465)\n",
        "    s.login(msg['From'], password)\n",
        "    s.sendmail(msg['From'], msg['To'], msg.as_string())\n",
        "    print('done!')\n",
        "    # import ssl\n",
        "    # sender_email = msg['From']\n",
        "    # receiver_email = msg[\"To\"]\n",
        "    # context = ssl.create_default_context()\n",
        "    # with smtplib.SMTP_SSL(\"smtp.gmail.com\", 465, context=context) as server:\n",
        "    #     server.login(sender_email, password)\n",
        "    #     server.sendmail(sender_email, receiver_email, msg.as_string())\n",
        "            "
      ],
      "execution_count": 0,
      "outputs": []
    }
  ]
}